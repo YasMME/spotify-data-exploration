{
 "cells": [
  {
   "cell_type": "markdown",
   "metadata": {},
   "source": [
    "# Spotify Streaming History"
   ]
  },
  {
   "cell_type": "code",
   "execution_count": 1,
   "metadata": {},
   "outputs": [],
   "source": [
    "import pandas as pd\n",
    "import numpy as np\n",
    "from matplotlib import pyplot as plt"
   ]
  },
  {
   "cell_type": "markdown",
   "metadata": {},
   "source": [
    "In this notebook I look at my `Spotify` streaming data from the period between `2021-07-15` and `2022-07-02`, downloaded from Spotify. "
   ]
  },
  {
   "cell_type": "markdown",
   "metadata": {},
   "source": [
    "## Loading Streaming Data\n",
    "I load the two streaming frames and combine them."
   ]
  },
  {
   "cell_type": "code",
   "execution_count": 2,
   "metadata": {},
   "outputs": [],
   "source": [
    "streaming_frame_0 = pd.read_json('MyData/StreamingHistory0.json')\n",
    "streaming_frame_1 = pd.read_json('MyData/StreamingHistory1.json')"
   ]
  },
  {
   "cell_type": "code",
   "execution_count": 3,
   "metadata": {},
   "outputs": [
    {
     "data": {
      "text/html": [
       "<div>\n",
       "<style scoped>\n",
       "    .dataframe tbody tr th:only-of-type {\n",
       "        vertical-align: middle;\n",
       "    }\n",
       "\n",
       "    .dataframe tbody tr th {\n",
       "        vertical-align: top;\n",
       "    }\n",
       "\n",
       "    .dataframe thead th {\n",
       "        text-align: right;\n",
       "    }\n",
       "</style>\n",
       "<table border=\"1\" class=\"dataframe\">\n",
       "  <thead>\n",
       "    <tr style=\"text-align: right;\">\n",
       "      <th></th>\n",
       "      <th>endTime</th>\n",
       "      <th>artistName</th>\n",
       "      <th>trackName</th>\n",
       "      <th>msPlayed</th>\n",
       "    </tr>\n",
       "  </thead>\n",
       "  <tbody>\n",
       "    <tr>\n",
       "      <th>0</th>\n",
       "      <td>2021-07-05 06:57</td>\n",
       "      <td>William Segerdahl</td>\n",
       "      <td>Det Kanske Inte är Så Farligt?</td>\n",
       "      <td>786</td>\n",
       "    </tr>\n",
       "    <tr>\n",
       "      <th>1</th>\n",
       "      <td>2021-07-11 18:36</td>\n",
       "      <td>William Segerdahl</td>\n",
       "      <td>Det Kanske Inte är Så Farligt?</td>\n",
       "      <td>5370</td>\n",
       "    </tr>\n",
       "    <tr>\n",
       "      <th>2</th>\n",
       "      <td>2021-07-11 19:10</td>\n",
       "      <td>Kenji Kawai</td>\n",
       "      <td>反省 (Instrumental)</td>\n",
       "      <td>9950</td>\n",
       "    </tr>\n",
       "    <tr>\n",
       "      <th>3</th>\n",
       "      <td>2021-07-15 17:04</td>\n",
       "      <td>GAMMAL</td>\n",
       "      <td>Hoppas det är bra</td>\n",
       "      <td>2500</td>\n",
       "    </tr>\n",
       "    <tr>\n",
       "      <th>4</th>\n",
       "      <td>2021-07-15 17:04</td>\n",
       "      <td>GAMMAL</td>\n",
       "      <td>Sånger från förut</td>\n",
       "      <td>2723</td>\n",
       "    </tr>\n",
       "  </tbody>\n",
       "</table>\n",
       "</div>"
      ],
      "text/plain": [
       "            endTime         artistName                       trackName  \\\n",
       "0  2021-07-05 06:57  William Segerdahl  Det Kanske Inte är Så Farligt?   \n",
       "1  2021-07-11 18:36  William Segerdahl  Det Kanske Inte är Så Farligt?   \n",
       "2  2021-07-11 19:10        Kenji Kawai               反省 (Instrumental)   \n",
       "3  2021-07-15 17:04             GAMMAL               Hoppas det är bra   \n",
       "4  2021-07-15 17:04             GAMMAL               Sånger från förut   \n",
       "\n",
       "   msPlayed  \n",
       "0       786  \n",
       "1      5370  \n",
       "2      9950  \n",
       "3      2500  \n",
       "4      2723  "
      ]
     },
     "execution_count": 3,
     "metadata": {},
     "output_type": "execute_result"
    }
   ],
   "source": [
    "streaming_frame_0.head()"
   ]
  },
  {
   "cell_type": "code",
   "execution_count": 4,
   "metadata": {},
   "outputs": [
    {
     "data": {
      "text/html": [
       "<div>\n",
       "<style scoped>\n",
       "    .dataframe tbody tr th:only-of-type {\n",
       "        vertical-align: middle;\n",
       "    }\n",
       "\n",
       "    .dataframe tbody tr th {\n",
       "        vertical-align: top;\n",
       "    }\n",
       "\n",
       "    .dataframe thead th {\n",
       "        text-align: right;\n",
       "    }\n",
       "</style>\n",
       "<table border=\"1\" class=\"dataframe\">\n",
       "  <thead>\n",
       "    <tr style=\"text-align: right;\">\n",
       "      <th></th>\n",
       "      <th>endTime</th>\n",
       "      <th>artistName</th>\n",
       "      <th>trackName</th>\n",
       "      <th>msPlayed</th>\n",
       "    </tr>\n",
       "  </thead>\n",
       "  <tbody>\n",
       "    <tr>\n",
       "      <th>0</th>\n",
       "      <td>2022-05-22 20:43</td>\n",
       "      <td>하근영</td>\n",
       "      <td>20년 전에도, 지금도.</td>\n",
       "      <td>5030</td>\n",
       "    </tr>\n",
       "    <tr>\n",
       "      <th>1</th>\n",
       "      <td>2022-05-22 20:43</td>\n",
       "      <td>하근영</td>\n",
       "      <td>무뎌진 슬픔</td>\n",
       "      <td>4690</td>\n",
       "    </tr>\n",
       "    <tr>\n",
       "      <th>2</th>\n",
       "      <td>2022-05-22 20:43</td>\n",
       "      <td>BIBI</td>\n",
       "      <td>Timeless</td>\n",
       "      <td>4060</td>\n",
       "    </tr>\n",
       "    <tr>\n",
       "      <th>3</th>\n",
       "      <td>2022-05-22 20:43</td>\n",
       "      <td>하근영</td>\n",
       "      <td>Salon Fight</td>\n",
       "      <td>3490</td>\n",
       "    </tr>\n",
       "    <tr>\n",
       "      <th>4</th>\n",
       "      <td>2022-05-22 20:44</td>\n",
       "      <td>Erik Satie</td>\n",
       "      <td>Gnossienne No.1</td>\n",
       "      <td>6090</td>\n",
       "    </tr>\n",
       "  </tbody>\n",
       "</table>\n",
       "</div>"
      ],
      "text/plain": [
       "            endTime  artistName        trackName  msPlayed\n",
       "0  2022-05-22 20:43         하근영    20년 전에도, 지금도.      5030\n",
       "1  2022-05-22 20:43         하근영           무뎌진 슬픔      4690\n",
       "2  2022-05-22 20:43        BIBI         Timeless      4060\n",
       "3  2022-05-22 20:43         하근영      Salon Fight      3490\n",
       "4  2022-05-22 20:44  Erik Satie  Gnossienne No.1      6090"
      ]
     },
     "execution_count": 4,
     "metadata": {},
     "output_type": "execute_result"
    }
   ],
   "source": [
    "streaming_frame_1.head()"
   ]
  },
  {
   "cell_type": "code",
   "execution_count": 5,
   "metadata": {},
   "outputs": [],
   "source": [
    "spotify_streaming_frame = pd.concat([streaming_frame_0, streaming_frame_1])"
   ]
  },
  {
   "cell_type": "code",
   "execution_count": 6,
   "metadata": {},
   "outputs": [
    {
     "data": {
      "text/html": [
       "<div>\n",
       "<style scoped>\n",
       "    .dataframe tbody tr th:only-of-type {\n",
       "        vertical-align: middle;\n",
       "    }\n",
       "\n",
       "    .dataframe tbody tr th {\n",
       "        vertical-align: top;\n",
       "    }\n",
       "\n",
       "    .dataframe thead th {\n",
       "        text-align: right;\n",
       "    }\n",
       "</style>\n",
       "<table border=\"1\" class=\"dataframe\">\n",
       "  <thead>\n",
       "    <tr style=\"text-align: right;\">\n",
       "      <th></th>\n",
       "      <th>endTime</th>\n",
       "      <th>artistName</th>\n",
       "      <th>trackName</th>\n",
       "      <th>msPlayed</th>\n",
       "    </tr>\n",
       "  </thead>\n",
       "  <tbody>\n",
       "    <tr>\n",
       "      <th>0</th>\n",
       "      <td>2021-07-05 06:57</td>\n",
       "      <td>William Segerdahl</td>\n",
       "      <td>Det Kanske Inte är Så Farligt?</td>\n",
       "      <td>786</td>\n",
       "    </tr>\n",
       "    <tr>\n",
       "      <th>1</th>\n",
       "      <td>2021-07-11 18:36</td>\n",
       "      <td>William Segerdahl</td>\n",
       "      <td>Det Kanske Inte är Så Farligt?</td>\n",
       "      <td>5370</td>\n",
       "    </tr>\n",
       "    <tr>\n",
       "      <th>2</th>\n",
       "      <td>2021-07-11 19:10</td>\n",
       "      <td>Kenji Kawai</td>\n",
       "      <td>反省 (Instrumental)</td>\n",
       "      <td>9950</td>\n",
       "    </tr>\n",
       "    <tr>\n",
       "      <th>3</th>\n",
       "      <td>2021-07-15 17:04</td>\n",
       "      <td>GAMMAL</td>\n",
       "      <td>Hoppas det är bra</td>\n",
       "      <td>2500</td>\n",
       "    </tr>\n",
       "    <tr>\n",
       "      <th>4</th>\n",
       "      <td>2021-07-15 17:04</td>\n",
       "      <td>GAMMAL</td>\n",
       "      <td>Sånger från förut</td>\n",
       "      <td>2723</td>\n",
       "    </tr>\n",
       "  </tbody>\n",
       "</table>\n",
       "</div>"
      ],
      "text/plain": [
       "            endTime         artistName                       trackName  \\\n",
       "0  2021-07-05 06:57  William Segerdahl  Det Kanske Inte är Så Farligt?   \n",
       "1  2021-07-11 18:36  William Segerdahl  Det Kanske Inte är Så Farligt?   \n",
       "2  2021-07-11 19:10        Kenji Kawai               反省 (Instrumental)   \n",
       "3  2021-07-15 17:04             GAMMAL               Hoppas det är bra   \n",
       "4  2021-07-15 17:04             GAMMAL               Sånger från förut   \n",
       "\n",
       "   msPlayed  \n",
       "0       786  \n",
       "1      5370  \n",
       "2      9950  \n",
       "3      2500  \n",
       "4      2723  "
      ]
     },
     "execution_count": 6,
     "metadata": {},
     "output_type": "execute_result"
    }
   ],
   "source": [
    "spotify_streaming_frame.head()"
   ]
  },
  {
   "cell_type": "markdown",
   "metadata": {},
   "source": [
    "## Cleaning and Reformatting"
   ]
  },
  {
   "cell_type": "markdown",
   "metadata": {},
   "source": [
    "### Removing tracks played for less than 30 seconds"
   ]
  },
  {
   "cell_type": "code",
   "execution_count": 7,
   "metadata": {},
   "outputs": [],
   "source": [
    "threshold = 30000\n",
    "spotify_streaming_frame = spotify_streaming_frame.loc[spotify_streaming_frame.msPlayed > threshold]"
   ]
  },
  {
   "cell_type": "code",
   "execution_count": 8,
   "metadata": {},
   "outputs": [
    {
     "data": {
      "text/html": [
       "<div>\n",
       "<style scoped>\n",
       "    .dataframe tbody tr th:only-of-type {\n",
       "        vertical-align: middle;\n",
       "    }\n",
       "\n",
       "    .dataframe tbody tr th {\n",
       "        vertical-align: top;\n",
       "    }\n",
       "\n",
       "    .dataframe thead th {\n",
       "        text-align: right;\n",
       "    }\n",
       "</style>\n",
       "<table border=\"1\" class=\"dataframe\">\n",
       "  <thead>\n",
       "    <tr style=\"text-align: right;\">\n",
       "      <th></th>\n",
       "      <th>endTime</th>\n",
       "      <th>artistName</th>\n",
       "      <th>trackName</th>\n",
       "      <th>msPlayed</th>\n",
       "    </tr>\n",
       "  </thead>\n",
       "  <tbody>\n",
       "    <tr>\n",
       "      <th>6</th>\n",
       "      <td>2021-07-15 17:07</td>\n",
       "      <td>GAMMAL</td>\n",
       "      <td>Vackrare än dom</td>\n",
       "      <td>197076</td>\n",
       "    </tr>\n",
       "    <tr>\n",
       "      <th>7</th>\n",
       "      <td>2021-07-15 17:10</td>\n",
       "      <td>GAMMAL</td>\n",
       "      <td>Vackrare än dom</td>\n",
       "      <td>197076</td>\n",
       "    </tr>\n",
       "    <tr>\n",
       "      <th>8</th>\n",
       "      <td>2021-07-15 17:14</td>\n",
       "      <td>GAMMAL</td>\n",
       "      <td>Elsa</td>\n",
       "      <td>227485</td>\n",
       "    </tr>\n",
       "    <tr>\n",
       "      <th>9</th>\n",
       "      <td>2021-07-15 17:17</td>\n",
       "      <td>GAMMAL</td>\n",
       "      <td>Katedral</td>\n",
       "      <td>182088</td>\n",
       "    </tr>\n",
       "    <tr>\n",
       "      <th>11</th>\n",
       "      <td>2021-07-17 02:10</td>\n",
       "      <td>VERIVERY</td>\n",
       "      <td>gogobebe</td>\n",
       "      <td>265045</td>\n",
       "    </tr>\n",
       "  </tbody>\n",
       "</table>\n",
       "</div>"
      ],
      "text/plain": [
       "             endTime artistName        trackName  msPlayed\n",
       "6   2021-07-15 17:07     GAMMAL  Vackrare än dom    197076\n",
       "7   2021-07-15 17:10     GAMMAL  Vackrare än dom    197076\n",
       "8   2021-07-15 17:14     GAMMAL             Elsa    227485\n",
       "9   2021-07-15 17:17     GAMMAL         Katedral    182088\n",
       "11  2021-07-17 02:10   VERIVERY         gogobebe    265045"
      ]
     },
     "execution_count": 8,
     "metadata": {},
     "output_type": "execute_result"
    }
   ],
   "source": [
    "spotify_streaming_frame.head()"
   ]
  },
  {
   "cell_type": "markdown",
   "metadata": {},
   "source": [
    "### Removing podcasts"
   ]
  },
  {
   "cell_type": "code",
   "execution_count": 9,
   "metadata": {},
   "outputs": [
    {
     "data": {
      "text/plain": [
       "10088"
      ]
     },
     "execution_count": 9,
     "metadata": {},
     "output_type": "execute_result"
    }
   ],
   "source": [
    "len(spotify_streaming_frame)"
   ]
  },
  {
   "cell_type": "code",
   "execution_count": 10,
   "metadata": {},
   "outputs": [],
   "source": [
    "podcasts = ['Olösta Fall', 'Henry läser Wikipedia', 'Learn Japanese with Noriko', 'Sekter', 'Solcellskollens podcast']\n",
    "spotify_streaming_frame = spotify_streaming_frame.loc[~spotify_streaming_frame.artistName.isin(podcasts)]"
   ]
  },
  {
   "cell_type": "code",
   "execution_count": 11,
   "metadata": {},
   "outputs": [
    {
     "data": {
      "text/plain": [
       "10072"
      ]
     },
     "execution_count": 11,
     "metadata": {},
     "output_type": "execute_result"
    }
   ],
   "source": [
    "len(spotify_streaming_frame)"
   ]
  },
  {
   "cell_type": "markdown",
   "metadata": {},
   "source": [
    "### Converting endTime column to DateTime"
   ]
  },
  {
   "cell_type": "code",
   "execution_count": 12,
   "metadata": {},
   "outputs": [],
   "source": [
    "spotify_streaming_frame.endTime = pd.to_datetime(spotify_streaming_frame.endTime)"
   ]
  },
  {
   "cell_type": "code",
   "execution_count": 13,
   "metadata": {},
   "outputs": [
    {
     "data": {
      "text/html": [
       "<div>\n",
       "<style scoped>\n",
       "    .dataframe tbody tr th:only-of-type {\n",
       "        vertical-align: middle;\n",
       "    }\n",
       "\n",
       "    .dataframe tbody tr th {\n",
       "        vertical-align: top;\n",
       "    }\n",
       "\n",
       "    .dataframe thead th {\n",
       "        text-align: right;\n",
       "    }\n",
       "</style>\n",
       "<table border=\"1\" class=\"dataframe\">\n",
       "  <thead>\n",
       "    <tr style=\"text-align: right;\">\n",
       "      <th></th>\n",
       "      <th>endTime</th>\n",
       "      <th>artistName</th>\n",
       "      <th>trackName</th>\n",
       "      <th>msPlayed</th>\n",
       "    </tr>\n",
       "  </thead>\n",
       "  <tbody>\n",
       "    <tr>\n",
       "      <th>6</th>\n",
       "      <td>2021-07-15 17:07:00</td>\n",
       "      <td>GAMMAL</td>\n",
       "      <td>Vackrare än dom</td>\n",
       "      <td>197076</td>\n",
       "    </tr>\n",
       "    <tr>\n",
       "      <th>7</th>\n",
       "      <td>2021-07-15 17:10:00</td>\n",
       "      <td>GAMMAL</td>\n",
       "      <td>Vackrare än dom</td>\n",
       "      <td>197076</td>\n",
       "    </tr>\n",
       "    <tr>\n",
       "      <th>8</th>\n",
       "      <td>2021-07-15 17:14:00</td>\n",
       "      <td>GAMMAL</td>\n",
       "      <td>Elsa</td>\n",
       "      <td>227485</td>\n",
       "    </tr>\n",
       "    <tr>\n",
       "      <th>9</th>\n",
       "      <td>2021-07-15 17:17:00</td>\n",
       "      <td>GAMMAL</td>\n",
       "      <td>Katedral</td>\n",
       "      <td>182088</td>\n",
       "    </tr>\n",
       "    <tr>\n",
       "      <th>11</th>\n",
       "      <td>2021-07-17 02:10:00</td>\n",
       "      <td>VERIVERY</td>\n",
       "      <td>gogobebe</td>\n",
       "      <td>265045</td>\n",
       "    </tr>\n",
       "  </tbody>\n",
       "</table>\n",
       "</div>"
      ],
      "text/plain": [
       "               endTime artistName        trackName  msPlayed\n",
       "6  2021-07-15 17:07:00     GAMMAL  Vackrare än dom    197076\n",
       "7  2021-07-15 17:10:00     GAMMAL  Vackrare än dom    197076\n",
       "8  2021-07-15 17:14:00     GAMMAL             Elsa    227485\n",
       "9  2021-07-15 17:17:00     GAMMAL         Katedral    182088\n",
       "11 2021-07-17 02:10:00   VERIVERY         gogobebe    265045"
      ]
     },
     "execution_count": 13,
     "metadata": {},
     "output_type": "execute_result"
    }
   ],
   "source": [
    "spotify_streaming_frame.head()"
   ]
  },
  {
   "cell_type": "code",
   "execution_count": 14,
   "metadata": {},
   "outputs": [
    {
     "data": {
      "text/plain": [
       "Timestamp('2021-07-15 17:07:00')"
      ]
     },
     "execution_count": 14,
     "metadata": {},
     "output_type": "execute_result"
    }
   ],
   "source": [
    "min(spotify_streaming_frame.endTime)"
   ]
  },
  {
   "cell_type": "code",
   "execution_count": 15,
   "metadata": {},
   "outputs": [
    {
     "data": {
      "text/plain": [
       "Timestamp('2022-07-02 19:25:00')"
      ]
     },
     "execution_count": 15,
     "metadata": {},
     "output_type": "execute_result"
    }
   ],
   "source": [
    "max(spotify_streaming_frame.endTime)"
   ]
  },
  {
   "cell_type": "markdown",
   "metadata": {},
   "source": [
    "## When do I listen to music?"
   ]
  },
  {
   "cell_type": "code",
   "execution_count": 16,
   "metadata": {},
   "outputs": [],
   "source": [
    "spotify_streaming_frame['hour'] = spotify_streaming_frame.endTime.apply(lambda x: x.hour)"
   ]
  },
  {
   "cell_type": "code",
   "execution_count": 17,
   "metadata": {},
   "outputs": [
    {
     "data": {
      "text/html": [
       "<div>\n",
       "<style scoped>\n",
       "    .dataframe tbody tr th:only-of-type {\n",
       "        vertical-align: middle;\n",
       "    }\n",
       "\n",
       "    .dataframe tbody tr th {\n",
       "        vertical-align: top;\n",
       "    }\n",
       "\n",
       "    .dataframe thead th {\n",
       "        text-align: right;\n",
       "    }\n",
       "</style>\n",
       "<table border=\"1\" class=\"dataframe\">\n",
       "  <thead>\n",
       "    <tr style=\"text-align: right;\">\n",
       "      <th></th>\n",
       "      <th>endTime</th>\n",
       "      <th>artistName</th>\n",
       "      <th>trackName</th>\n",
       "      <th>msPlayed</th>\n",
       "      <th>hour</th>\n",
       "    </tr>\n",
       "  </thead>\n",
       "  <tbody>\n",
       "    <tr>\n",
       "      <th>6</th>\n",
       "      <td>2021-07-15 17:07:00</td>\n",
       "      <td>GAMMAL</td>\n",
       "      <td>Vackrare än dom</td>\n",
       "      <td>197076</td>\n",
       "      <td>17</td>\n",
       "    </tr>\n",
       "    <tr>\n",
       "      <th>7</th>\n",
       "      <td>2021-07-15 17:10:00</td>\n",
       "      <td>GAMMAL</td>\n",
       "      <td>Vackrare än dom</td>\n",
       "      <td>197076</td>\n",
       "      <td>17</td>\n",
       "    </tr>\n",
       "    <tr>\n",
       "      <th>8</th>\n",
       "      <td>2021-07-15 17:14:00</td>\n",
       "      <td>GAMMAL</td>\n",
       "      <td>Elsa</td>\n",
       "      <td>227485</td>\n",
       "      <td>17</td>\n",
       "    </tr>\n",
       "    <tr>\n",
       "      <th>9</th>\n",
       "      <td>2021-07-15 17:17:00</td>\n",
       "      <td>GAMMAL</td>\n",
       "      <td>Katedral</td>\n",
       "      <td>182088</td>\n",
       "      <td>17</td>\n",
       "    </tr>\n",
       "    <tr>\n",
       "      <th>11</th>\n",
       "      <td>2021-07-17 02:10:00</td>\n",
       "      <td>VERIVERY</td>\n",
       "      <td>gogobebe</td>\n",
       "      <td>265045</td>\n",
       "      <td>2</td>\n",
       "    </tr>\n",
       "  </tbody>\n",
       "</table>\n",
       "</div>"
      ],
      "text/plain": [
       "               endTime artistName        trackName  msPlayed  hour\n",
       "6  2021-07-15 17:07:00     GAMMAL  Vackrare än dom    197076    17\n",
       "7  2021-07-15 17:10:00     GAMMAL  Vackrare än dom    197076    17\n",
       "8  2021-07-15 17:14:00     GAMMAL             Elsa    227485    17\n",
       "9  2021-07-15 17:17:00     GAMMAL         Katedral    182088    17\n",
       "11 2021-07-17 02:10:00   VERIVERY         gogobebe    265045     2"
      ]
     },
     "execution_count": 17,
     "metadata": {},
     "output_type": "execute_result"
    }
   ],
   "source": [
    "spotify_streaming_frame.head()"
   ]
  },
  {
   "cell_type": "code",
   "execution_count": 18,
   "metadata": {},
   "outputs": [
    {
     "name": "stderr",
     "output_type": "stream",
     "text": [
      "<ipython-input-18-86de9ceca2ba>:33: UserWarning: FixedFormatter should only be used together with FixedLocator\n",
      "  ax.set_xticklabels(ticks)\n"
     ]
    },
    {
     "data": {
      "image/png": "[encoded data removed]",
      "text/plain": [
       "<Figure size 720x432 with 1 Axes>"
      ]
     },
     "metadata": {
      "needs_background": "light"
     },
     "output_type": "display_data"
    }
   ],
   "source": [
    "#Based on this thread: https://stackoverflow.com/questions/49709030/bar-plot-with-polar-axis\n",
    "\n",
    "df = pd.DataFrame({\"COL\": spotify_streaming_frame['hour']}).COL.value_counts().sort_index()\n",
    "maximum = max(df) \n",
    "\n",
    "N = 24\n",
    "bottom = 400\n",
    "theta, width = np.linspace(0.0, 2 * np.pi, N, endpoint=False, retstep=True)\n",
    "\n",
    "plt.figure(figsize = (10, 6))\n",
    "ax = plt.subplot(111, polar=True)\n",
    "\n",
    "bars = ax.bar(\n",
    "    theta, df,\n",
    "    width=width-0.03,\n",
    "    bottom=bottom,\n",
    "    color=\"#00796B\"\n",
    ")\n",
    "bars = ax.bar(\n",
    "    theta, [maximum]*24,\n",
    "    width=width-0.03,\n",
    "    bottom=bottom,\n",
    "    color=\"#4DB6AC\", alpha=0.2\n",
    ")\n",
    "\n",
    "ax.set_theta_zero_location(\"N\")\n",
    "ax.set_theta_direction(-1)\n",
    "ax.grid(False)\n",
    "ax.spines['polar'].set_visible(False)\n",
    "ax.set_rticks([])\n",
    "\n",
    "ticks = [f\"{i}:00\" for i in range(0, 24, 3)]\n",
    "ax.set_xticklabels(ticks)\n",
    "\n",
    "## Draw a \"clock\" icon inside of the graph\n",
    "##lines for hands of a clock\n",
    "x1, y1 = [0, 90], [0, 0.5*bottom]\n",
    "x2, y2 = [0,0], [0, 0.5*bottom]\n",
    "plt.plot(x1, y1, x2, y2, linewidth=2.5, solid_capstyle='round', color=\"#00796B\", alpha=1)\n",
    "\n",
    "##circle for clockface\n",
    "circle = plt.Circle((0, 0), 0.65*bottom, transform=ax.transData._b, linewidth=3, fill=False, color=\"#00796B\", alpha=1)\n",
    "ax.add_artist(circle)\n",
    "\n",
    "_ = ax"
   ]
  },
  {
   "cell_type": "markdown",
   "metadata": {},
   "source": [
    "I listen to the most music around 10 P.M. "
   ]
  },
  {
   "cell_type": "markdown",
   "metadata": {},
   "source": [
    "## Top\n",
    "Here I look at my most listened to artists and songs"
   ]
  },
  {
   "cell_type": "markdown",
   "metadata": {},
   "source": [
    "### Getting distinct tracks and play count"
   ]
  },
  {
   "cell_type": "code",
   "execution_count": 19,
   "metadata": {},
   "outputs": [],
   "source": [
    "distinct_tracks = spotify_streaming_frame.groupby(['artistName', 'trackName']).size().reset_index().rename(columns={0:'playCount'})"
   ]
  },
  {
   "cell_type": "code",
   "execution_count": 20,
   "metadata": {},
   "outputs": [
    {
     "data": {
      "text/html": [
       "<div>\n",
       "<style scoped>\n",
       "    .dataframe tbody tr th:only-of-type {\n",
       "        vertical-align: middle;\n",
       "    }\n",
       "\n",
       "    .dataframe tbody tr th {\n",
       "        vertical-align: top;\n",
       "    }\n",
       "\n",
       "    .dataframe thead th {\n",
       "        text-align: right;\n",
       "    }\n",
       "</style>\n",
       "<table border=\"1\" class=\"dataframe\">\n",
       "  <thead>\n",
       "    <tr style=\"text-align: right;\">\n",
       "      <th></th>\n",
       "      <th>artistName</th>\n",
       "      <th>trackName</th>\n",
       "      <th>playCount</th>\n",
       "    </tr>\n",
       "  </thead>\n",
       "  <tbody>\n",
       "    <tr>\n",
       "      <th>0</th>\n",
       "      <td>(G)I-DLE</td>\n",
       "      <td>DON'T TEXT ME</td>\n",
       "      <td>1</td>\n",
       "    </tr>\n",
       "    <tr>\n",
       "      <th>1</th>\n",
       "      <td>(G)I-DLE</td>\n",
       "      <td>LATATA</td>\n",
       "      <td>2</td>\n",
       "    </tr>\n",
       "    <tr>\n",
       "      <th>2</th>\n",
       "      <td>(G)I-DLE</td>\n",
       "      <td>Oh my god</td>\n",
       "      <td>4</td>\n",
       "    </tr>\n",
       "    <tr>\n",
       "      <th>3</th>\n",
       "      <td>(G)I-DLE</td>\n",
       "      <td>Senorita</td>\n",
       "      <td>1</td>\n",
       "    </tr>\n",
       "    <tr>\n",
       "      <th>4</th>\n",
       "      <td>1.Cuz</td>\n",
       "      <td>Caravaggio</td>\n",
       "      <td>1</td>\n",
       "    </tr>\n",
       "  </tbody>\n",
       "</table>\n",
       "</div>"
      ],
      "text/plain": [
       "  artistName      trackName  playCount\n",
       "0   (G)I-DLE  DON'T TEXT ME          1\n",
       "1   (G)I-DLE         LATATA          2\n",
       "2   (G)I-DLE      Oh my god          4\n",
       "3   (G)I-DLE       Senorita          1\n",
       "4      1.Cuz     Caravaggio          1"
      ]
     },
     "execution_count": 20,
     "metadata": {},
     "output_type": "execute_result"
    }
   ],
   "source": [
    "distinct_tracks.head()"
   ]
  },
  {
   "cell_type": "markdown",
   "metadata": {},
   "source": [
    "### Most played artists"
   ]
  },
  {
   "cell_type": "code",
   "execution_count": 21,
   "metadata": {},
   "outputs": [],
   "source": [
    "top_10_artists = distinct_tracks.groupby(['artistName'])['playCount'].sum().nlargest(10)"
   ]
  },
  {
   "cell_type": "code",
   "execution_count": 22,
   "metadata": {},
   "outputs": [
    {
     "data": {
      "text/plain": [
       "artistName\n",
       "SEVENTEEN              825\n",
       "ATEEZ                  650\n",
       "Stray Kids             393\n",
       "E'LAST                 299\n",
       "BTS                    249\n",
       "ONEWE                  217\n",
       "THE 8                  206\n",
       "Joe Hisaishi           171\n",
       "Of Monsters and Men    170\n",
       "文俊辉                    158\n",
       "Name: playCount, dtype: int64"
      ]
     },
     "execution_count": 22,
     "metadata": {},
     "output_type": "execute_result"
    }
   ],
   "source": [
    "top_10_artists"
   ]
  },
  {
   "cell_type": "code",
   "execution_count": 23,
   "metadata": {},
   "outputs": [
    {
     "data": {
      "text/plain": [
       "<AxesSubplot:title={'center':'Most Played Artists'}, xlabel='Artist', ylabel='Play Count'>"
      ]
     },
     "execution_count": 23,
     "metadata": {},
     "output_type": "execute_result"
    },
    {
     "data": {
      "image/png": "[encoded data removed]",
      "text/plain": [
       "<Figure size 432x288 with 1 Axes>"
      ]
     },
     "metadata": {
      "needs_background": "light"
     },
     "output_type": "display_data"
    }
   ],
   "source": [
    "plt.rcParams['font.sans-serif'] = ['SimHei'] # Allow Chinese\n",
    "top_10_artists.plot.bar(xlabel='Artist', ylabel='Play Count', title='Most Played Artists')\n"
   ]
  },
  {
   "cell_type": "markdown",
   "metadata": {},
   "source": [
    "### Most played tracks"
   ]
  },
  {
   "cell_type": "code",
   "execution_count": 24,
   "metadata": {},
   "outputs": [],
   "source": [
    "top_10_tracks = distinct_tracks.groupby(['artistName', 'trackName'])['playCount'].sum().nlargest(10)"
   ]
  },
  {
   "cell_type": "code",
   "execution_count": 25,
   "metadata": {},
   "outputs": [
    {
     "data": {
      "text/plain": [
       "artistName     trackName                                                                           \n",
       "นนน กรภัทร์    แค่เพื่อนมั้ง (Just Friend?) - เพลงประกอบซีรีส์ แค่เพื่อนครับเพื่อน BAD BUDDY SERIES    122\n",
       "SEVENTEEN      Anyone                                                                                  112\n",
       "THE 8          Side By Side - Chinese Version                                                          106\n",
       "The Lumineers  Ophelia                                                                                 101\n",
       "SEVENTEEN      Rock with you                                                                            90\n",
       "THE 8          Maze - 电视剧《永远的主君》原声音乐                                                                    71\n",
       "ATEEZ          Not Too Late                                                                             69\n",
       "E'LAST         Dark Dream                                                                               69\n",
       "文俊辉            Dream - 电视剧《永远的主君》原声音乐                                                                   68\n",
       "Zui Xue        [Juvenile Group] Zui Shi Shao Nian Bu Ke Qi                                              63\n",
       "Name: playCount, dtype: int64"
      ]
     },
     "execution_count": 25,
     "metadata": {},
     "output_type": "execute_result"
    }
   ],
   "source": [
    "top_10_tracks"
   ]
  },
  {
   "cell_type": "code",
   "execution_count": 26,
   "metadata": {},
   "outputs": [
    {
     "data": {
      "text/plain": [
       "<AxesSubplot:title={'center':'Most played tracks'}, xlabel='(Artist, Track Name)', ylabel='Play Count'>"
      ]
     },
     "execution_count": 26,
     "metadata": {},
     "output_type": "execute_result"
    },
    {
     "name": "stderr",
     "output_type": "stream",
     "text": [
      "/home/yasmeen/anaconda3/lib/python3.8/site-packages/IPython/core/pylabtools.py:132: UserWarning: Glyph 3609 (\\N{THAI CHARACTER NO NU}) missing from current font.\n",
      "  fig.canvas.print_figure(bytes_io, **kw)\n",
      "/home/yasmeen/anaconda3/lib/python3.8/site-packages/IPython/core/pylabtools.py:132: UserWarning: Glyph 3585 (\\N{THAI CHARACTER KO KAI}) missing from current font.\n",
      "  fig.canvas.print_figure(bytes_io, **kw)\n",
      "/home/yasmeen/anaconda3/lib/python3.8/site-packages/IPython/core/pylabtools.py:132: UserWarning: Glyph 3619 (\\N{THAI CHARACTER RO RUA}) missing from current font.\n",
      "  fig.canvas.print_figure(bytes_io, **kw)\n",
      "/home/yasmeen/anaconda3/lib/python3.8/site-packages/IPython/core/pylabtools.py:132: UserWarning: Glyph 3616 (\\N{THAI CHARACTER PHO SAMPHAO}) missing from current font.\n",
      "  fig.canvas.print_figure(bytes_io, **kw)\n",
      "/home/yasmeen/anaconda3/lib/python3.8/site-packages/IPython/core/pylabtools.py:132: UserWarning: Glyph 3633 (\\N{THAI CHARACTER MAI HAN-AKAT}) missing from current font.\n",
      "  fig.canvas.print_figure(bytes_io, **kw)\n",
      "/home/yasmeen/anaconda3/lib/python3.8/site-packages/IPython/core/pylabtools.py:132: UserWarning: Glyph 3607 (\\N{THAI CHARACTER THO THAHAN}) missing from current font.\n",
      "  fig.canvas.print_figure(bytes_io, **kw)\n",
      "/home/yasmeen/anaconda3/lib/python3.8/site-packages/IPython/core/pylabtools.py:132: UserWarning: Glyph 3660 (\\N{THAI CHARACTER THANTHAKHAT}) missing from current font.\n",
      "  fig.canvas.print_figure(bytes_io, **kw)\n",
      "/home/yasmeen/anaconda3/lib/python3.8/site-packages/IPython/core/pylabtools.py:132: UserWarning: Glyph 3649 (\\N{THAI CHARACTER SARA AE}) missing from current font.\n",
      "  fig.canvas.print_figure(bytes_io, **kw)\n",
      "/home/yasmeen/anaconda3/lib/python3.8/site-packages/IPython/core/pylabtools.py:132: UserWarning: Glyph 3588 (\\N{THAI CHARACTER KHO KHWAI}) missing from current font.\n",
      "  fig.canvas.print_figure(bytes_io, **kw)\n",
      "/home/yasmeen/anaconda3/lib/python3.8/site-packages/IPython/core/pylabtools.py:132: UserWarning: Glyph 3656 (\\N{THAI CHARACTER MAI EK}) missing from current font.\n",
      "  fig.canvas.print_figure(bytes_io, **kw)\n",
      "/home/yasmeen/anaconda3/lib/python3.8/site-packages/IPython/core/pylabtools.py:132: UserWarning: Glyph 3648 (\\N{THAI CHARACTER SARA E}) missing from current font.\n",
      "  fig.canvas.print_figure(bytes_io, **kw)\n",
      "/home/yasmeen/anaconda3/lib/python3.8/site-packages/IPython/core/pylabtools.py:132: UserWarning: Glyph 3614 (\\N{THAI CHARACTER PHO PHAN}) missing from current font.\n",
      "  fig.canvas.print_figure(bytes_io, **kw)\n",
      "/home/yasmeen/anaconda3/lib/python3.8/site-packages/IPython/core/pylabtools.py:132: UserWarning: Glyph 3639 (\\N{THAI CHARACTER SARA UEE}) missing from current font.\n",
      "  fig.canvas.print_figure(bytes_io, **kw)\n",
      "/home/yasmeen/anaconda3/lib/python3.8/site-packages/IPython/core/pylabtools.py:132: UserWarning: Glyph 3629 (\\N{THAI CHARACTER O ANG}) missing from current font.\n",
      "  fig.canvas.print_figure(bytes_io, **kw)\n",
      "/home/yasmeen/anaconda3/lib/python3.8/site-packages/IPython/core/pylabtools.py:132: UserWarning: Glyph 3617 (\\N{THAI CHARACTER MO MA}) missing from current font.\n",
      "  fig.canvas.print_figure(bytes_io, **kw)\n",
      "/home/yasmeen/anaconda3/lib/python3.8/site-packages/IPython/core/pylabtools.py:132: UserWarning: Glyph 3657 (\\N{THAI CHARACTER MAI THO}) missing from current font.\n",
      "  fig.canvas.print_figure(bytes_io, **kw)\n",
      "/home/yasmeen/anaconda3/lib/python3.8/site-packages/IPython/core/pylabtools.py:132: UserWarning: Glyph 3591 (\\N{THAI CHARACTER NGO NGU}) missing from current font.\n",
      "  fig.canvas.print_figure(bytes_io, **kw)\n",
      "/home/yasmeen/anaconda3/lib/python3.8/site-packages/IPython/core/pylabtools.py:132: UserWarning: Glyph 3621 (\\N{THAI CHARACTER LO LING}) missing from current font.\n",
      "  fig.canvas.print_figure(bytes_io, **kw)\n",
      "/home/yasmeen/anaconda3/lib/python3.8/site-packages/IPython/core/pylabtools.py:132: UserWarning: Glyph 3611 (\\N{THAI CHARACTER PO PLA}) missing from current font.\n",
      "  fig.canvas.print_figure(bytes_io, **kw)\n",
      "/home/yasmeen/anaconda3/lib/python3.8/site-packages/IPython/core/pylabtools.py:132: UserWarning: Glyph 3632 (\\N{THAI CHARACTER SARA A}) missing from current font.\n",
      "  fig.canvas.print_figure(bytes_io, **kw)\n",
      "/home/yasmeen/anaconda3/lib/python3.8/site-packages/IPython/core/pylabtools.py:132: UserWarning: Glyph 3610 (\\N{THAI CHARACTER BO BAIMAI}) missing from current font.\n",
      "  fig.canvas.print_figure(bytes_io, **kw)\n",
      "/home/yasmeen/anaconda3/lib/python3.8/site-packages/IPython/core/pylabtools.py:132: UserWarning: Glyph 3595 (\\N{THAI CHARACTER SO SO}) missing from current font.\n",
      "  fig.canvas.print_figure(bytes_io, **kw)\n",
      "/home/yasmeen/anaconda3/lib/python3.8/site-packages/IPython/core/pylabtools.py:132: UserWarning: Glyph 3637 (\\N{THAI CHARACTER SARA II}) missing from current font.\n",
      "  fig.canvas.print_figure(bytes_io, **kw)\n",
      "/home/yasmeen/anaconda3/lib/python3.8/site-packages/IPython/core/pylabtools.py:132: UserWarning: Glyph 3626 (\\N{THAI CHARACTER SO SUA}) missing from current font.\n",
      "  fig.canvas.print_figure(bytes_io, **kw)\n"
     ]
    },
    {
     "data": {
      "image/png": "[encoded data removed]",
      "text/plain": [
       "<Figure size 432x288 with 1 Axes>"
      ]
     },
     "metadata": {
      "needs_background": "light"
     },
     "output_type": "display_data"
    }
   ],
   "source": [
    "top_10_tracks.plot.bar(title='Most played tracks', xlabel='(Artist, Track Name)', ylabel='Play Count')\n",
    "# Note! Cannot display both Chinese and Thai at the same time. "
   ]
  },
  {
   "cell_type": "markdown",
   "metadata": {},
   "source": [
    "## Title Languages\n",
    "Here I look at what languages the titles of my streamed songs are.\n",
    "\n",
    "My initial plan had been to look at the languages of the lyrics, however, I was not able to find a suitable lyrics API. `lyricgenius` produces a lot of junk, such as romanized lyrics and interviews, and the official `Genius API` does not allow lyrics access. The Genius TOS also does not allow scraping of the lyrics. The free version of the `MusixMatch API` does not allow enough API calls for this project. "
   ]
  },
  {
   "cell_type": "code",
   "execution_count": 27,
   "metadata": {},
   "outputs": [],
   "source": [
    "import pycld2 as cld2"
   ]
  },
  {
   "cell_type": "code",
   "execution_count": 28,
   "metadata": {},
   "outputs": [],
   "source": [
    "def get_languages(title):\n",
    "    isReliable, textBytesFound, details = cld2.detect(title)\n",
    "    return details[0][0]"
   ]
  },
  {
   "cell_type": "code",
   "execution_count": 29,
   "metadata": {},
   "outputs": [],
   "source": [
    "distinct_tracks['titleLanguage'] = distinct_tracks['trackName'].apply(lambda x: get_languages(x))"
   ]
  },
  {
   "cell_type": "code",
   "execution_count": 30,
   "metadata": {},
   "outputs": [
    {
     "data": {
      "text/html": [
       "<div>\n",
       "<style scoped>\n",
       "    .dataframe tbody tr th:only-of-type {\n",
       "        vertical-align: middle;\n",
       "    }\n",
       "\n",
       "    .dataframe tbody tr th {\n",
       "        vertical-align: top;\n",
       "    }\n",
       "\n",
       "    .dataframe thead th {\n",
       "        text-align: right;\n",
       "    }\n",
       "</style>\n",
       "<table border=\"1\" class=\"dataframe\">\n",
       "  <thead>\n",
       "    <tr style=\"text-align: right;\">\n",
       "      <th></th>\n",
       "      <th>artistName</th>\n",
       "      <th>trackName</th>\n",
       "      <th>playCount</th>\n",
       "      <th>titleLanguage</th>\n",
       "    </tr>\n",
       "  </thead>\n",
       "  <tbody>\n",
       "    <tr>\n",
       "      <th>0</th>\n",
       "      <td>(G)I-DLE</td>\n",
       "      <td>DON'T TEXT ME</td>\n",
       "      <td>1</td>\n",
       "      <td>Unknown</td>\n",
       "    </tr>\n",
       "    <tr>\n",
       "      <th>1</th>\n",
       "      <td>(G)I-DLE</td>\n",
       "      <td>LATATA</td>\n",
       "      <td>2</td>\n",
       "      <td>Unknown</td>\n",
       "    </tr>\n",
       "    <tr>\n",
       "      <th>2</th>\n",
       "      <td>(G)I-DLE</td>\n",
       "      <td>Oh my god</td>\n",
       "      <td>4</td>\n",
       "      <td>ENGLISH</td>\n",
       "    </tr>\n",
       "    <tr>\n",
       "      <th>3</th>\n",
       "      <td>(G)I-DLE</td>\n",
       "      <td>Senorita</td>\n",
       "      <td>1</td>\n",
       "      <td>Unknown</td>\n",
       "    </tr>\n",
       "    <tr>\n",
       "      <th>4</th>\n",
       "      <td>1.Cuz</td>\n",
       "      <td>Caravaggio</td>\n",
       "      <td>1</td>\n",
       "      <td>Unknown</td>\n",
       "    </tr>\n",
       "    <tr>\n",
       "      <th>...</th>\n",
       "      <td>...</td>\n",
       "      <td>...</td>\n",
       "      <td>...</td>\n",
       "      <td>...</td>\n",
       "    </tr>\n",
       "    <tr>\n",
       "      <th>2725</th>\n",
       "      <td>須田景凪</td>\n",
       "      <td>無垢</td>\n",
       "      <td>1</td>\n",
       "      <td>Unknown</td>\n",
       "    </tr>\n",
       "    <tr>\n",
       "      <th>2726</th>\n",
       "      <td>黄宇弘</td>\n",
       "      <td>击溃 - 电视剧《长歌行》配乐</td>\n",
       "      <td>1</td>\n",
       "      <td>Chinese</td>\n",
       "    </tr>\n",
       "    <tr>\n",
       "      <th>2727</th>\n",
       "      <td>黄宇弘</td>\n",
       "      <td>征途 - 电视剧《长歌行》配乐</td>\n",
       "      <td>1</td>\n",
       "      <td>Chinese</td>\n",
       "    </tr>\n",
       "    <tr>\n",
       "      <th>2728</th>\n",
       "      <td>신유진</td>\n",
       "      <td>Paradox</td>\n",
       "      <td>1</td>\n",
       "      <td>Unknown</td>\n",
       "    </tr>\n",
       "    <tr>\n",
       "      <th>2729</th>\n",
       "      <td>하근영</td>\n",
       "      <td>I Killed Her</td>\n",
       "      <td>1</td>\n",
       "      <td>Unknown</td>\n",
       "    </tr>\n",
       "  </tbody>\n",
       "</table>\n",
       "<p>2730 rows × 4 columns</p>\n",
       "</div>"
      ],
      "text/plain": [
       "     artistName        trackName  playCount titleLanguage\n",
       "0      (G)I-DLE    DON'T TEXT ME          1       Unknown\n",
       "1      (G)I-DLE           LATATA          2       Unknown\n",
       "2      (G)I-DLE        Oh my god          4       ENGLISH\n",
       "3      (G)I-DLE         Senorita          1       Unknown\n",
       "4         1.Cuz       Caravaggio          1       Unknown\n",
       "...         ...              ...        ...           ...\n",
       "2725       須田景凪               無垢          1       Unknown\n",
       "2726        黄宇弘  击溃 - 电视剧《长歌行》配乐          1       Chinese\n",
       "2727        黄宇弘  征途 - 电视剧《长歌行》配乐          1       Chinese\n",
       "2728        신유진          Paradox          1       Unknown\n",
       "2729        하근영     I Killed Her          1       Unknown\n",
       "\n",
       "[2730 rows x 4 columns]"
      ]
     },
     "execution_count": 30,
     "metadata": {},
     "output_type": "execute_result"
    }
   ],
   "source": [
    "distinct_tracks"
   ]
  },
  {
   "cell_type": "code",
   "execution_count": 31,
   "metadata": {},
   "outputs": [
    {
     "data": {
      "text/plain": [
       "Unknown         1329\n",
       "ENGLISH         1104\n",
       "Japanese          64\n",
       "SWEDISH           60\n",
       "Chinese           57\n",
       "ChineseT          17\n",
       "DANISH            16\n",
       "FRENCH            13\n",
       "NORWEGIAN_N        9\n",
       "THAI               7\n",
       "Korean             7\n",
       "SCOTS              5\n",
       "NORWEGIAN          4\n",
       "IRISH              4\n",
       "LATIN              3\n",
       "CORSICAN           2\n",
       "PORTUGUESE         2\n",
       "ITALIAN            2\n",
       "MALAY              2\n",
       "WOLOF              2\n",
       "HAUSA              1\n",
       "GALICIAN           1\n",
       "LINGALA            1\n",
       "AFAR               1\n",
       "BRETON             1\n",
       "GERMAN             1\n",
       "SPANISH            1\n",
       "OCCITAN            1\n",
       "MALAGASY           1\n",
       "XHOSA              1\n",
       "HAWAIIAN           1\n",
       "ICELANDIC          1\n",
       "POLISH             1\n",
       "ALBANIAN           1\n",
       "MANX               1\n",
       "RUNDI              1\n",
       "FINNISH            1\n",
       "SCOTS_GAELIC       1\n",
       "KINYARWANDA        1\n",
       "TURKMEN            1\n",
       "INDONESIAN         1\n",
       "Name: titleLanguage, dtype: int64"
      ]
     },
     "execution_count": 31,
     "metadata": {},
     "output_type": "execute_result"
    }
   ],
   "source": [
    "distinct_tracks['titleLanguage'].value_counts()"
   ]
  },
  {
   "cell_type": "markdown",
   "metadata": {},
   "source": [
    "We can see some issues here:\n",
    "- about half of the titles' languages were returned as unknown. \n",
    "- a number of titles were misclassified"
   ]
  },
  {
   "cell_type": "code",
   "execution_count": 32,
   "metadata": {},
   "outputs": [
    {
     "data": {
      "text/html": [
       "<div>\n",
       "<style scoped>\n",
       "    .dataframe tbody tr th:only-of-type {\n",
       "        vertical-align: middle;\n",
       "    }\n",
       "\n",
       "    .dataframe tbody tr th {\n",
       "        vertical-align: top;\n",
       "    }\n",
       "\n",
       "    .dataframe thead th {\n",
       "        text-align: right;\n",
       "    }\n",
       "</style>\n",
       "<table border=\"1\" class=\"dataframe\">\n",
       "  <thead>\n",
       "    <tr style=\"text-align: right;\">\n",
       "      <th></th>\n",
       "      <th>artistName</th>\n",
       "      <th>trackName</th>\n",
       "      <th>playCount</th>\n",
       "      <th>titleLanguage</th>\n",
       "    </tr>\n",
       "  </thead>\n",
       "  <tbody>\n",
       "    <tr>\n",
       "      <th>2</th>\n",
       "      <td>(G)I-DLE</td>\n",
       "      <td>Oh my god</td>\n",
       "      <td>4</td>\n",
       "      <td>ENGLISH</td>\n",
       "    </tr>\n",
       "    <tr>\n",
       "      <th>6</th>\n",
       "      <td>5 Seconds of Summer</td>\n",
       "      <td>Youngblood</td>\n",
       "      <td>4</td>\n",
       "      <td>ENGLISH</td>\n",
       "    </tr>\n",
       "    <tr>\n",
       "      <th>7</th>\n",
       "      <td>777 (Triple Seven)</td>\n",
       "      <td>PRESENTE - Spanish Version</td>\n",
       "      <td>1</td>\n",
       "      <td>ENGLISH</td>\n",
       "    </tr>\n",
       "    <tr>\n",
       "      <th>9</th>\n",
       "      <td>A Samurai In Tokyo</td>\n",
       "      <td>Demon Slayer (Zenitsu Theme)</td>\n",
       "      <td>1</td>\n",
       "      <td>ENGLISH</td>\n",
       "    </tr>\n",
       "    <tr>\n",
       "      <th>12</th>\n",
       "      <td>A.C.E</td>\n",
       "      <td>Down (feat. Grey)</td>\n",
       "      <td>16</td>\n",
       "      <td>ENGLISH</td>\n",
       "    </tr>\n",
       "    <tr>\n",
       "      <th>...</th>\n",
       "      <td>...</td>\n",
       "      <td>...</td>\n",
       "      <td>...</td>\n",
       "      <td>...</td>\n",
       "    </tr>\n",
       "    <tr>\n",
       "      <th>2722</th>\n",
       "      <td>陳楚生</td>\n",
       "      <td>招摇 - 电视剧《招摇》同名主题曲</td>\n",
       "      <td>2</td>\n",
       "      <td>Chinese</td>\n",
       "    </tr>\n",
       "    <tr>\n",
       "      <th>2723</th>\n",
       "      <td>陸虎</td>\n",
       "      <td>月出 (電視劇《皓鑭傳》片頭曲)</td>\n",
       "      <td>1</td>\n",
       "      <td>ChineseT</td>\n",
       "    </tr>\n",
       "    <tr>\n",
       "      <th>2724</th>\n",
       "      <td>霍尊</td>\n",
       "      <td>锦书来 - 网剧《山河令》插曲</td>\n",
       "      <td>16</td>\n",
       "      <td>Chinese</td>\n",
       "    </tr>\n",
       "    <tr>\n",
       "      <th>2726</th>\n",
       "      <td>黄宇弘</td>\n",
       "      <td>击溃 - 电视剧《长歌行》配乐</td>\n",
       "      <td>1</td>\n",
       "      <td>Chinese</td>\n",
       "    </tr>\n",
       "    <tr>\n",
       "      <th>2727</th>\n",
       "      <td>黄宇弘</td>\n",
       "      <td>征途 - 电视剧《长歌行》配乐</td>\n",
       "      <td>1</td>\n",
       "      <td>Chinese</td>\n",
       "    </tr>\n",
       "  </tbody>\n",
       "</table>\n",
       "<p>1401 rows × 4 columns</p>\n",
       "</div>"
      ],
      "text/plain": [
       "               artistName                     trackName  playCount  \\\n",
       "2                (G)I-DLE                     Oh my god          4   \n",
       "6     5 Seconds of Summer                    Youngblood          4   \n",
       "7      777 (Triple Seven)    PRESENTE - Spanish Version          1   \n",
       "9      A Samurai In Tokyo  Demon Slayer (Zenitsu Theme)          1   \n",
       "12                  A.C.E             Down (feat. Grey)         16   \n",
       "...                   ...                           ...        ...   \n",
       "2722                  陳楚生             招摇 - 电视剧《招摇》同名主题曲          2   \n",
       "2723                   陸虎              月出 (電視劇《皓鑭傳》片頭曲)          1   \n",
       "2724                   霍尊               锦书来 - 网剧《山河令》插曲         16   \n",
       "2726                  黄宇弘               击溃 - 电视剧《长歌行》配乐          1   \n",
       "2727                  黄宇弘               征途 - 电视剧《长歌行》配乐          1   \n",
       "\n",
       "     titleLanguage  \n",
       "2          ENGLISH  \n",
       "6          ENGLISH  \n",
       "7          ENGLISH  \n",
       "9          ENGLISH  \n",
       "12         ENGLISH  \n",
       "...            ...  \n",
       "2722       Chinese  \n",
       "2723      ChineseT  \n",
       "2724       Chinese  \n",
       "2726       Chinese  \n",
       "2727       Chinese  \n",
       "\n",
       "[1401 rows x 4 columns]"
      ]
     },
     "execution_count": 32,
     "metadata": {},
     "output_type": "execute_result"
    }
   ],
   "source": [
    "distinct_tracks.loc[distinct_tracks['titleLanguage'] != 'Unknown']"
   ]
  },
  {
   "cell_type": "code",
   "execution_count": 33,
   "metadata": {},
   "outputs": [
    {
     "data": {
      "text/html": [
       "<div>\n",
       "<style scoped>\n",
       "    .dataframe tbody tr th:only-of-type {\n",
       "        vertical-align: middle;\n",
       "    }\n",
       "\n",
       "    .dataframe tbody tr th {\n",
       "        vertical-align: top;\n",
       "    }\n",
       "\n",
       "    .dataframe thead th {\n",
       "        text-align: right;\n",
       "    }\n",
       "</style>\n",
       "<table border=\"1\" class=\"dataframe\">\n",
       "  <thead>\n",
       "    <tr style=\"text-align: right;\">\n",
       "      <th></th>\n",
       "      <th>artistName</th>\n",
       "      <th>trackName</th>\n",
       "      <th>playCount</th>\n",
       "      <th>titleLanguage</th>\n",
       "    </tr>\n",
       "  </thead>\n",
       "  <tbody>\n",
       "    <tr>\n",
       "      <th>321</th>\n",
       "      <td>Billie Eilish</td>\n",
       "      <td>Oxytocin</td>\n",
       "      <td>1</td>\n",
       "      <td>HAUSA</td>\n",
       "    </tr>\n",
       "  </tbody>\n",
       "</table>\n",
       "</div>"
      ],
      "text/plain": [
       "        artistName trackName  playCount titleLanguage\n",
       "321  Billie Eilish  Oxytocin          1         HAUSA"
      ]
     },
     "execution_count": 33,
     "metadata": {},
     "output_type": "execute_result"
    }
   ],
   "source": [
    "distinct_tracks.loc[distinct_tracks['titleLanguage'] == 'HAUSA']"
   ]
  },
  {
   "cell_type": "code",
   "execution_count": 34,
   "metadata": {},
   "outputs": [
    {
     "data": {
      "text/html": [
       "<div>\n",
       "<style scoped>\n",
       "    .dataframe tbody tr th:only-of-type {\n",
       "        vertical-align: middle;\n",
       "    }\n",
       "\n",
       "    .dataframe tbody tr th {\n",
       "        vertical-align: top;\n",
       "    }\n",
       "\n",
       "    .dataframe thead th {\n",
       "        text-align: right;\n",
       "    }\n",
       "</style>\n",
       "<table border=\"1\" class=\"dataframe\">\n",
       "  <thead>\n",
       "    <tr style=\"text-align: right;\">\n",
       "      <th></th>\n",
       "      <th>artistName</th>\n",
       "      <th>trackName</th>\n",
       "      <th>playCount</th>\n",
       "      <th>titleLanguage</th>\n",
       "    </tr>\n",
       "  </thead>\n",
       "  <tbody>\n",
       "    <tr>\n",
       "      <th>1845</th>\n",
       "      <td>SEVENTEEN</td>\n",
       "      <td>Lilili Yabbay</td>\n",
       "      <td>1</td>\n",
       "      <td>AFAR</td>\n",
       "    </tr>\n",
       "  </tbody>\n",
       "</table>\n",
       "</div>"
      ],
      "text/plain": [
       "     artistName      trackName  playCount titleLanguage\n",
       "1845  SEVENTEEN  Lilili Yabbay          1          AFAR"
      ]
     },
     "execution_count": 34,
     "metadata": {},
     "output_type": "execute_result"
    }
   ],
   "source": [
    "distinct_tracks.loc[distinct_tracks['titleLanguage'] == 'AFAR']"
   ]
  },
  {
   "cell_type": "code",
   "execution_count": 35,
   "metadata": {},
   "outputs": [
    {
     "data": {
      "text/html": [
       "<div>\n",
       "<style scoped>\n",
       "    .dataframe tbody tr th:only-of-type {\n",
       "        vertical-align: middle;\n",
       "    }\n",
       "\n",
       "    .dataframe tbody tr th {\n",
       "        vertical-align: top;\n",
       "    }\n",
       "\n",
       "    .dataframe thead th {\n",
       "        text-align: right;\n",
       "    }\n",
       "</style>\n",
       "<table border=\"1\" class=\"dataframe\">\n",
       "  <thead>\n",
       "    <tr style=\"text-align: right;\">\n",
       "      <th></th>\n",
       "      <th>artistName</th>\n",
       "      <th>trackName</th>\n",
       "      <th>playCount</th>\n",
       "      <th>titleLanguage</th>\n",
       "    </tr>\n",
       "  </thead>\n",
       "  <tbody>\n",
       "    <tr>\n",
       "      <th>1694</th>\n",
       "      <td>Red Velvet</td>\n",
       "      <td>Zimzalabim</td>\n",
       "      <td>1</td>\n",
       "      <td>XHOSA</td>\n",
       "    </tr>\n",
       "  </tbody>\n",
       "</table>\n",
       "</div>"
      ],
      "text/plain": [
       "      artistName   trackName  playCount titleLanguage\n",
       "1694  Red Velvet  Zimzalabim          1         XHOSA"
      ]
     },
     "execution_count": 35,
     "metadata": {},
     "output_type": "execute_result"
    }
   ],
   "source": [
    "distinct_tracks.loc[distinct_tracks['titleLanguage'] == 'XHOSA']"
   ]
  },
  {
   "cell_type": "code",
   "execution_count": 36,
   "metadata": {},
   "outputs": [
    {
     "data": {
      "text/html": [
       "<div>\n",
       "<style scoped>\n",
       "    .dataframe tbody tr th:only-of-type {\n",
       "        vertical-align: middle;\n",
       "    }\n",
       "\n",
       "    .dataframe tbody tr th {\n",
       "        vertical-align: top;\n",
       "    }\n",
       "\n",
       "    .dataframe thead th {\n",
       "        text-align: right;\n",
       "    }\n",
       "</style>\n",
       "<table border=\"1\" class=\"dataframe\">\n",
       "  <thead>\n",
       "    <tr style=\"text-align: right;\">\n",
       "      <th></th>\n",
       "      <th>artistName</th>\n",
       "      <th>trackName</th>\n",
       "      <th>playCount</th>\n",
       "      <th>titleLanguage</th>\n",
       "    </tr>\n",
       "  </thead>\n",
       "  <tbody>\n",
       "    <tr>\n",
       "      <th>128</th>\n",
       "      <td>Albin Johnsén</td>\n",
       "      <td>Betyder ingenting</td>\n",
       "      <td>1</td>\n",
       "      <td>DANISH</td>\n",
       "    </tr>\n",
       "    <tr>\n",
       "      <th>164</th>\n",
       "      <td>Andrew McMahon in the Wilderness</td>\n",
       "      <td>Synesthesia</td>\n",
       "      <td>17</td>\n",
       "      <td>DANISH</td>\n",
       "    </tr>\n",
       "    <tr>\n",
       "      <th>165</th>\n",
       "      <td>André Zuniga</td>\n",
       "      <td>Som om vi aldrig ses igen</td>\n",
       "      <td>1</td>\n",
       "      <td>DANISH</td>\n",
       "    </tr>\n",
       "    <tr>\n",
       "      <th>431</th>\n",
       "      <td>Carola</td>\n",
       "      <td>Säg mig var du står</td>\n",
       "      <td>2</td>\n",
       "      <td>DANISH</td>\n",
       "    </tr>\n",
       "    <tr>\n",
       "      <th>1161</th>\n",
       "      <td>Linnea Henriksson</td>\n",
       "      <td>En dålig idé</td>\n",
       "      <td>1</td>\n",
       "      <td>DANISH</td>\n",
       "    </tr>\n",
       "    <tr>\n",
       "      <th>1311</th>\n",
       "      <td>Miriam Bryant</td>\n",
       "      <td>Du Med Dig</td>\n",
       "      <td>10</td>\n",
       "      <td>DANISH</td>\n",
       "    </tr>\n",
       "    <tr>\n",
       "      <th>1324</th>\n",
       "      <td>Miss Li</td>\n",
       "      <td>Utan dig</td>\n",
       "      <td>9</td>\n",
       "      <td>DANISH</td>\n",
       "    </tr>\n",
       "    <tr>\n",
       "      <th>1454</th>\n",
       "      <td>Norlie &amp; KKV</td>\n",
       "      <td>Ingen annan rör mig som du</td>\n",
       "      <td>2</td>\n",
       "      <td>DANISH</td>\n",
       "    </tr>\n",
       "    <tr>\n",
       "      <th>1557</th>\n",
       "      <td>Owen</td>\n",
       "      <td>Kan ej med mig</td>\n",
       "      <td>1</td>\n",
       "      <td>DANISH</td>\n",
       "    </tr>\n",
       "    <tr>\n",
       "      <th>1670</th>\n",
       "      <td>Rainych</td>\n",
       "      <td>Haru wo Tsugeru</td>\n",
       "      <td>3</td>\n",
       "      <td>DANISH</td>\n",
       "    </tr>\n",
       "    <tr>\n",
       "      <th>2053</th>\n",
       "      <td>Stray Kids</td>\n",
       "      <td>Hello Stranger</td>\n",
       "      <td>1</td>\n",
       "      <td>DANISH</td>\n",
       "    </tr>\n",
       "    <tr>\n",
       "      <th>2331</th>\n",
       "      <td>The Monkees</td>\n",
       "      <td>Daydream Believer</td>\n",
       "      <td>3</td>\n",
       "      <td>DANISH</td>\n",
       "    </tr>\n",
       "    <tr>\n",
       "      <th>2398</th>\n",
       "      <td>Thomas Stenström</td>\n",
       "      <td>Du kommer sakna mig mindre och mindre</td>\n",
       "      <td>2</td>\n",
       "      <td>DANISH</td>\n",
       "    </tr>\n",
       "    <tr>\n",
       "      <th>2525</th>\n",
       "      <td>WayV-KUN&amp;XIAOJUN</td>\n",
       "      <td>Sleepless</td>\n",
       "      <td>6</td>\n",
       "      <td>DANISH</td>\n",
       "    </tr>\n",
       "    <tr>\n",
       "      <th>2536</th>\n",
       "      <td>William Segerdahl</td>\n",
       "      <td>utan mig</td>\n",
       "      <td>20</td>\n",
       "      <td>DANISH</td>\n",
       "    </tr>\n",
       "    <tr>\n",
       "      <th>2623</th>\n",
       "      <td>yama</td>\n",
       "      <td>Haru wo Tsugeru</td>\n",
       "      <td>1</td>\n",
       "      <td>DANISH</td>\n",
       "    </tr>\n",
       "  </tbody>\n",
       "</table>\n",
       "</div>"
      ],
      "text/plain": [
       "                            artistName                              trackName  \\\n",
       "128                      Albin Johnsén                      Betyder ingenting   \n",
       "164   Andrew McMahon in the Wilderness                            Synesthesia   \n",
       "165                       André Zuniga              Som om vi aldrig ses igen   \n",
       "431                             Carola                    Säg mig var du står   \n",
       "1161                 Linnea Henriksson                           En dålig idé   \n",
       "1311                     Miriam Bryant                             Du Med Dig   \n",
       "1324                           Miss Li                               Utan dig   \n",
       "1454                      Norlie & KKV             Ingen annan rör mig som du   \n",
       "1557                              Owen                         Kan ej med mig   \n",
       "1670                           Rainych                        Haru wo Tsugeru   \n",
       "2053                        Stray Kids                         Hello Stranger   \n",
       "2331                       The Monkees                      Daydream Believer   \n",
       "2398                  Thomas Stenström  Du kommer sakna mig mindre och mindre   \n",
       "2525                  WayV-KUN&XIAOJUN                              Sleepless   \n",
       "2536                 William Segerdahl                               utan mig   \n",
       "2623                              yama                        Haru wo Tsugeru   \n",
       "\n",
       "      playCount titleLanguage  \n",
       "128           1        DANISH  \n",
       "164          17        DANISH  \n",
       "165           1        DANISH  \n",
       "431           2        DANISH  \n",
       "1161          1        DANISH  \n",
       "1311         10        DANISH  \n",
       "1324          9        DANISH  \n",
       "1454          2        DANISH  \n",
       "1557          1        DANISH  \n",
       "1670          3        DANISH  \n",
       "2053          1        DANISH  \n",
       "2331          3        DANISH  \n",
       "2398          2        DANISH  \n",
       "2525          6        DANISH  \n",
       "2536         20        DANISH  \n",
       "2623          1        DANISH  "
      ]
     },
     "execution_count": 36,
     "metadata": {},
     "output_type": "execute_result"
    }
   ],
   "source": [
    "distinct_tracks.loc[distinct_tracks['titleLanguage'] == 'DANISH']"
   ]
  },
  {
   "cell_type": "markdown",
   "metadata": {},
   "source": [
    "Here we can see that many songs with Swedish titles were classified as being Danish, as well as a few in English, and one romanized Japanese title. "
   ]
  },
  {
   "cell_type": "code",
   "execution_count": 37,
   "metadata": {},
   "outputs": [
    {
     "data": {
      "text/html": [
       "<div>\n",
       "<style scoped>\n",
       "    .dataframe tbody tr th:only-of-type {\n",
       "        vertical-align: middle;\n",
       "    }\n",
       "\n",
       "    .dataframe tbody tr th {\n",
       "        vertical-align: top;\n",
       "    }\n",
       "\n",
       "    .dataframe thead th {\n",
       "        text-align: right;\n",
       "    }\n",
       "</style>\n",
       "<table border=\"1\" class=\"dataframe\">\n",
       "  <thead>\n",
       "    <tr style=\"text-align: right;\">\n",
       "      <th></th>\n",
       "      <th>artistName</th>\n",
       "      <th>trackName</th>\n",
       "      <th>playCount</th>\n",
       "      <th>titleLanguage</th>\n",
       "    </tr>\n",
       "  </thead>\n",
       "  <tbody>\n",
       "    <tr>\n",
       "      <th>793</th>\n",
       "      <td>Hai Lin</td>\n",
       "      <td>Wu Ji - Instrumental Ver.</td>\n",
       "      <td>3</td>\n",
       "      <td>WOLOF</td>\n",
       "    </tr>\n",
       "    <tr>\n",
       "      <th>794</th>\n",
       "      <td>Hai Lin</td>\n",
       "      <td>Wu Ji - Piano Ver.</td>\n",
       "      <td>2</td>\n",
       "      <td>WOLOF</td>\n",
       "    </tr>\n",
       "  </tbody>\n",
       "</table>\n",
       "</div>"
      ],
      "text/plain": [
       "    artistName                  trackName  playCount titleLanguage\n",
       "793    Hai Lin  Wu Ji - Instrumental Ver.          3         WOLOF\n",
       "794    Hai Lin         Wu Ji - Piano Ver.          2         WOLOF"
      ]
     },
     "execution_count": 37,
     "metadata": {},
     "output_type": "execute_result"
    }
   ],
   "source": [
    "distinct_tracks.loc[distinct_tracks['titleLanguage'] == 'WOLOF']"
   ]
  },
  {
   "cell_type": "markdown",
   "metadata": {},
   "source": [
    "Above we can see that romanized titles are a problem: this romanized Chinese title was classified as Wolof. "
   ]
  }
 ],
 "metadata": {
  "kernelspec": {
   "display_name": "Python 3",
   "language": "python",
   "name": "python3"
  },
  "language_info": {
   "codemirror_mode": {
    "name": "ipython",
    "version": 3
   },
   "file_extension": ".py",
   "mimetype": "text/x-python",
   "name": "python",
   "nbconvert_exporter": "python",
   "pygments_lexer": "ipython3",
   "version": "3.8.3"
  }
 },
 "nbformat": 4,
 "nbformat_minor": 4
}
